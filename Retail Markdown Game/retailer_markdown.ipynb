{
 "cells": [
  {
   "cell_type": "code",
   "execution_count": 1,
   "id": "d1b9b1a3",
   "metadata": {},
   "outputs": [],
   "source": [
    "import gurobipy as gp\n",
    "from gurobipy import *\n",
    "import numpy as np\n",
    "import pandas as pd"
   ]
  },
  {
   "cell_type": "code",
   "execution_count": 2,
   "id": "5495155d",
   "metadata": {},
   "outputs": [
    {
     "name": "stdout",
     "output_type": "stream",
     "text": [
      "Academic license - for non-commercial use only - expires 2022-09-25\n",
      "Using license file /Users/corrine/gurobi.lic\n"
     ]
    }
   ],
   "source": [
    "model = gp.Model(\"Retailer game optimization\")"
   ]
  },
  {
   "cell_type": "code",
   "execution_count": 3,
   "id": "f5226924",
   "metadata": {},
   "outputs": [],
   "source": [
    "d_60 = model.addVar(lb=0,ub=120,vtype=GRB.INTEGER,name=\"d_60\")\n",
    "x_60 = model.addVar(lb=0,ub=15,vtype=GRB.INTEGER,name=\"x_60\")\n",
    "x_54 = model.addVar(lb=0,ub=15,vtype=GRB.INTEGER,name=\"x_54\")\n",
    "x_48 = model.addVar(lb=0,ub=15,vtype=GRB.INTEGER,name=\"x_48\")\n",
    "x_36 = model.addVar(lb=0,ub=15,vtype=GRB.INTEGER,name=\"x_36\")"
   ]
  },
  {
   "cell_type": "code",
   "execution_count": 4,
   "id": "8915258b",
   "metadata": {},
   "outputs": [],
   "source": [
    "exp = 60*d_60*x_60+54*1.31*d_60*x_54+48*1.73*d_60*x_48+36*2.81*d_60*x_36\n",
    "model.setObjective(exp, GRB.MAXIMIZE)"
   ]
  },
  {
   "cell_type": "code",
   "execution_count": 5,
   "id": "44920bea",
   "metadata": {},
   "outputs": [],
   "source": [
    "model.addConstr(d_60*x_60+1.31*d_60*x_54+1.73*d_60*x_48+2.81*d_60*x_36 <=2000, name = 'Total sales')\n",
    "model.update()"
   ]
  },
  {
   "cell_type": "code",
   "execution_count": 6,
   "id": "4126be8b",
   "metadata": {},
   "outputs": [
    {
     "data": {
      "text/plain": [
       "<gurobi.Constr *Awaiting Model Update*>"
      ]
     },
     "execution_count": 6,
     "metadata": {},
     "output_type": "execute_result"
    }
   ],
   "source": [
    "model.addConstr(x_60+x_54+x_48+x_36<=15, name = 'Total weeks')"
   ]
  },
  {
   "cell_type": "code",
   "execution_count": 7,
   "id": "a6b2b533",
   "metadata": {},
   "outputs": [
    {
     "data": {
      "text/plain": [
       "<gurobi.Constr *Awaiting Model Update*>"
      ]
     },
     "execution_count": 7,
     "metadata": {},
     "output_type": "execute_result"
    }
   ],
   "source": [
    "model.addConstr(x_60>=1, name = 'Week 1 full price')"
   ]
  },
  {
   "cell_type": "code",
   "execution_count": 8,
   "id": "979e1b1d",
   "metadata": {},
   "outputs": [
    {
     "name": "stdout",
     "output_type": "stream",
     "text": [
      "Changed value of parameter NonConvex to 2\n",
      "   Prev: -1  Min: -1  Max: 2  Default: -1\n"
     ]
    }
   ],
   "source": [
    "model.params.NonConvex = 2"
   ]
  },
  {
   "cell_type": "code",
   "execution_count": 9,
   "id": "3ee120b6",
   "metadata": {},
   "outputs": [
    {
     "name": "stdout",
     "output_type": "stream",
     "text": [
      "Gurobi Optimizer version 9.1.2 build v9.1.2rc0 (mac64)\n",
      "Thread count: 2 physical cores, 4 logical processors, using up to 4 threads\n",
      "Optimize a model with 2 rows, 5 columns and 5 nonzeros\n",
      "Model fingerprint: 0xc963953c\n",
      "Model has 4 quadratic objective terms\n",
      "Model has 1 quadratic constraint\n",
      "Variable types: 0 continuous, 5 integer (0 binary)\n",
      "Coefficient statistics:\n",
      "  Matrix range     [1e+00, 1e+00]\n",
      "  QMatrix range    [1e+00, 3e+00]\n",
      "  Objective range  [0e+00, 0e+00]\n",
      "  QObjective range [1e+02, 2e+02]\n",
      "  Bounds range     [2e+01, 1e+02]\n",
      "  RHS range        [1e+00, 2e+01]\n",
      "  QRHS range       [2e+03, 2e+03]\n",
      "Presolve removed 1 rows and 0 columns\n",
      "Presolve time: 0.00s\n",
      "Presolved: 19 rows, 10 columns, 47 nonzeros\n",
      "Presolved model has 4 bilinear constraint(s)\n",
      "Variable types: 1 continuous, 9 integer (0 binary)\n",
      "\n",
      "Root relaxation: objective 1.149290e+05, 9 iterations, 0.00 seconds\n",
      "\n",
      "    Nodes    |    Current Node    |     Objective Bounds      |     Work\n",
      " Expl Unexpl |  Obj  Depth IntInf | Incumbent    BestBd   Gap | It/Node Time\n",
      "\n",
      "     0     0 114929.032    0    4          - 114929.032      -     -    0s\n",
      "H    0     0                    99010.800000 114929.032  16.1%     -    0s\n",
      "H    0     0                    114444.00000 114929.032  0.42%     -    0s\n",
      "     0     0 114635.384    0    8 114444.000 114635.384  0.17%     -    0s\n",
      "H    0     0                    114631.20000 114635.384  0.00%     -    0s\n",
      "\n",
      "Cutting planes:\n",
      "  Gomory: 1\n",
      "\n",
      "Explored 1 nodes (11 simplex iterations) in 0.06 seconds\n",
      "Thread count was 4 (of 4 available processors)\n",
      "\n",
      "Solution count 3: 114631 114444 99010.8 \n",
      "\n",
      "Optimal solution found (tolerance 1.00e-04)\n",
      "Best objective 1.146312000000e+05, best bound 1.146353841130e+05, gap 0.0037%\n"
     ]
    }
   ],
   "source": [
    "model.optimize()"
   ]
  },
  {
   "cell_type": "code",
   "execution_count": 10,
   "id": "f734653e",
   "metadata": {},
   "outputs": [
    {
     "data": {
      "text/plain": [
       "[<gurobi.Var d_60 (value 120.0)>,\n",
       " <gurobi.Var x_60 (value 11.0)>,\n",
       " <gurobi.Var x_54 (value 3.0)>,\n",
       " <gurobi.Var x_48 (value 1.0)>,\n",
       " <gurobi.Var x_36 (value -0.0)>]"
      ]
     },
     "execution_count": 10,
     "metadata": {},
     "output_type": "execute_result"
    }
   ],
   "source": [
    "model.getVars()"
   ]
  },
  {
   "cell_type": "code",
   "execution_count": null,
   "id": "774ed1f6",
   "metadata": {},
   "outputs": [],
   "source": []
  }
 ],
 "metadata": {
  "kernelspec": {
   "display_name": "Python 3",
   "language": "python",
   "name": "python3"
  },
  "language_info": {
   "codemirror_mode": {
    "name": "ipython",
    "version": 3
   },
   "file_extension": ".py",
   "mimetype": "text/x-python",
   "name": "python",
   "nbconvert_exporter": "python",
   "pygments_lexer": "ipython3",
   "version": "3.8.8"
  }
 },
 "nbformat": 4,
 "nbformat_minor": 5
}
