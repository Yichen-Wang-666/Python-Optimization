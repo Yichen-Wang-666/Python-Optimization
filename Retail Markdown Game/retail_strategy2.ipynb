{
 "cells": [
  {
   "cell_type": "markdown",
   "id": "fc96dd4c",
   "metadata": {},
   "source": [
    "# Retailer Game Strategy 2\n",
    "Group members: Kexin Wang (260787422), Yichen Wang (260761601), Yingxin Jiang (261007353), Yulin Hong (260898713) \\\n",
    "In this strategy, we use the maximum of all average demand at $60 (114) as the upper bound for demand at full price"
   ]
  },
  {
   "cell_type": "code",
   "execution_count": 1,
   "id": "ba657b5b",
   "metadata": {},
   "outputs": [],
   "source": [
    "import gurobipy as gp\n",
    "from gurobipy import *\n",
    "import numpy as np\n",
    "import pandas as pd"
   ]
  },
  {
   "cell_type": "code",
   "execution_count": 2,
   "id": "d53e5174",
   "metadata": {},
   "outputs": [
    {
     "name": "stdout",
     "output_type": "stream",
     "text": [
      "Academic license - for non-commercial use only - expires 2022-09-25\n",
      "Using license file /Users/corrine/gurobi.lic\n"
     ]
    }
   ],
   "source": [
    "model = gp.Model(\"Retailer game optimization\")"
   ]
  },
  {
   "cell_type": "code",
   "execution_count": 3,
   "id": "6238af3e",
   "metadata": {},
   "outputs": [],
   "source": [
    "d_60 = model.addVar(lb=0,ub=114,vtype=GRB.INTEGER,name=\"d_60\")\n",
    "x_60 = model.addVar(lb=0,ub=15,vtype=GRB.INTEGER,name=\"x_60\")\n",
    "x_54 = model.addVar(lb=0,ub=15,vtype=GRB.INTEGER,name=\"x_54\")\n",
    "x_48 = model.addVar(lb=0,ub=15,vtype=GRB.INTEGER,name=\"x_48\")\n",
    "x_36 = model.addVar(lb=0,ub=15,vtype=GRB.INTEGER,name=\"x_36\")"
   ]
  },
  {
   "cell_type": "code",
   "execution_count": 4,
   "id": "c448d57d",
   "metadata": {},
   "outputs": [],
   "source": [
    "exp = 60*d_60*x_60+54*1.306*d_60*x_54+48*1.629*d_60*x_48+36*2.647*d_60*x_36\n",
    "model.setObjective(exp, GRB.MAXIMIZE)"
   ]
  },
  {
   "cell_type": "code",
   "execution_count": 5,
   "id": "8210e0e2",
   "metadata": {},
   "outputs": [],
   "source": [
    "model.addConstr(d_60*x_60+1.306*d_60*x_54+1.629*d_60*x_48+2.647*d_60*x_36 <=2000, name = 'Total sales')\n",
    "model.update()"
   ]
  },
  {
   "cell_type": "code",
   "execution_count": 6,
   "id": "c7818452",
   "metadata": {},
   "outputs": [
    {
     "data": {
      "text/plain": [
       "<gurobi.Constr *Awaiting Model Update*>"
      ]
     },
     "execution_count": 6,
     "metadata": {},
     "output_type": "execute_result"
    }
   ],
   "source": [
    "model.addConstr(x_60+x_54+x_48+x_36<=15, name = 'Total weeks')"
   ]
  },
  {
   "cell_type": "code",
   "execution_count": 7,
   "id": "359b6689",
   "metadata": {},
   "outputs": [
    {
     "data": {
      "text/plain": [
       "<gurobi.Constr *Awaiting Model Update*>"
      ]
     },
     "execution_count": 7,
     "metadata": {},
     "output_type": "execute_result"
    }
   ],
   "source": [
    "model.addConstr(x_60>=1, name = 'Week 1 full price')"
   ]
  },
  {
   "cell_type": "code",
   "execution_count": 8,
   "id": "aebdf818",
   "metadata": {},
   "outputs": [
    {
     "name": "stdout",
     "output_type": "stream",
     "text": [
      "Changed value of parameter NonConvex to 2\n",
      "   Prev: -1  Min: -1  Max: 2  Default: -1\n"
     ]
    }
   ],
   "source": [
    "model.params.NonConvex = 2"
   ]
  },
  {
   "cell_type": "code",
   "execution_count": 9,
   "id": "a38e0bb6",
   "metadata": {},
   "outputs": [
    {
     "name": "stdout",
     "output_type": "stream",
     "text": [
      "Gurobi Optimizer version 9.1.2 build v9.1.2rc0 (mac64)\n",
      "Thread count: 2 physical cores, 4 logical processors, using up to 4 threads\n",
      "Optimize a model with 2 rows, 5 columns and 5 nonzeros\n",
      "Model fingerprint: 0x2c766d88\n",
      "Model has 4 quadratic objective terms\n",
      "Model has 1 quadratic constraint\n",
      "Variable types: 0 continuous, 5 integer (0 binary)\n",
      "Coefficient statistics:\n",
      "  Matrix range     [1e+00, 1e+00]\n",
      "  QMatrix range    [1e+00, 3e+00]\n",
      "  Objective range  [0e+00, 0e+00]\n",
      "  QObjective range [1e+02, 2e+02]\n",
      "  Bounds range     [2e+01, 1e+02]\n",
      "  RHS range        [1e+00, 2e+01]\n",
      "  QRHS range       [2e+03, 2e+03]\n",
      "Presolve removed 1 rows and 0 columns\n",
      "Presolve time: 0.00s\n",
      "Presolved: 19 rows, 10 columns, 47 nonzeros\n",
      "Presolved model has 4 bilinear constraint(s)\n",
      "Variable types: 1 continuous, 9 integer (0 binary)\n",
      "\n",
      "Root relaxation: objective 1.125737e+05, 9 iterations, 0.00 seconds\n",
      "\n",
      "    Nodes    |    Current Node    |     Objective Bounds      |     Work\n",
      " Expl Unexpl |  Obj  Depth IntInf | Incumbent    BestBd   Gap | It/Node Time\n",
      "\n",
      "     0     0 112573.725    0    4          - 112573.725      -     -    0s\n",
      "H    0     0                    81076.752000 112573.725  38.8%     -    0s\n",
      "H    0     0                    106557.62400 112573.725  5.65%     -    0s\n",
      "     0     0 112297.586    0   12 106557.624 112297.586  5.39%     -    0s\n",
      "H    0     0                    109418.76000 112297.586  2.63%     -    0s\n",
      "*    0     0               0    112197.88800 112197.888  0.00%     -    0s\n",
      "\n",
      "Cutting planes:\n",
      "  Gomory: 2\n",
      "  MIR: 2\n",
      "  RLT: 2\n",
      "\n",
      "Explored 1 nodes (18 simplex iterations) in 0.09 seconds\n",
      "Thread count was 4 (of 4 available processors)\n",
      "\n",
      "Solution count 4: 112198 109419 106558 81076.8 \n",
      "\n",
      "Optimal solution found (tolerance 1.00e-04)\n",
      "Best objective 1.121978880000e+05, best bound 1.121978880000e+05, gap 0.0000%\n"
     ]
    }
   ],
   "source": [
    "model.optimize()"
   ]
  },
  {
   "cell_type": "code",
   "execution_count": 10,
   "id": "7d3d870e",
   "metadata": {},
   "outputs": [
    {
     "data": {
      "text/plain": [
       "[<gurobi.Var d_60 (value 114.00000000000001)>,\n",
       " <gurobi.Var x_60 (value 7.000000000000001)>,\n",
       " <gurobi.Var x_54 (value 7.999999999999999)>,\n",
       " <gurobi.Var x_48 (value 0.0)>,\n",
       " <gurobi.Var x_36 (value 0.0)>]"
      ]
     },
     "execution_count": 10,
     "metadata": {},
     "output_type": "execute_result"
    }
   ],
   "source": [
    "model.getVars()"
   ]
  },
  {
   "cell_type": "code",
   "execution_count": null,
   "id": "a016ae65",
   "metadata": {},
   "outputs": [],
   "source": []
  }
 ],
 "metadata": {
  "kernelspec": {
   "display_name": "Python 3",
   "language": "python",
   "name": "python3"
  },
  "language_info": {
   "codemirror_mode": {
    "name": "ipython",
    "version": 3
   },
   "file_extension": ".py",
   "mimetype": "text/x-python",
   "name": "python",
   "nbconvert_exporter": "python",
   "pygments_lexer": "ipython3",
   "version": "3.8.8"
  }
 },
 "nbformat": 4,
 "nbformat_minor": 5
}
